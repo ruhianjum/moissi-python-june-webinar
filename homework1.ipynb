{
 "cells": [
  {
   "cell_type": "markdown",
   "metadata": {},
   "source": [
    "# Homework 1"
   ]
  },
  {
   "cell_type": "code",
   "execution_count": 1,
   "metadata": {},
   "outputs": [],
   "source": [
    "#open file for reading\n",
    "import os\n",
    "\n",
    "filename = os.path.join('data','03_Prod.mdout')\n",
    "f = open(filename,'r')\n",
    "\n",
    "# Read data in the file.\n",
    "data = f.readlines()\n",
    "f.close()\n",
    "\n",
    "# open a new file to write\n",
    "f_write = open('Etot.txt','w+')\n",
    "f_write.write('Total Energy \\n')\n",
    "\n",
    "# Loop through lines in the file.\n",
    "for line in data:\n",
    "    split_lines = line.split()\n",
    "    \n",
    "   # Get information from the line   \n",
    "    if 'Etot'in line:\n",
    "        #print(split_lines[2])\n",
    "        # Get information from the line   \n",
    "        f_write.write(f'{split_lines[2]}\\n')\n",
    "        \n",
    "\n",
    "f_write.close()"
   ]
  },
  {
   "cell_type": "code",
   "execution_count": null,
   "metadata": {},
   "outputs": [],
   "source": []
  }
 ],
 "metadata": {
  "kernelspec": {
   "display_name": "Python 3",
   "language": "python",
   "name": "python3"
  },
  "language_info": {
   "codemirror_mode": {
    "name": "ipython",
    "version": 3
   },
   "file_extension": ".py",
   "mimetype": "text/x-python",
   "name": "python",
   "nbconvert_exporter": "python",
   "pygments_lexer": "ipython3",
   "version": "3.7.6"
  }
 },
 "nbformat": 4,
 "nbformat_minor": 4
}
